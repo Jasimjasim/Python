{
 "cells": [
  {
   "cell_type": "code",
   "execution_count": 4,
   "id": "bd8ea7ea-9be9-4f58-bd06-9b8bdd7d894b",
   "metadata": {},
   "outputs": [
    {
     "name": "stdout",
     "output_type": "stream",
     "text": [
      "HOPE AI\n"
     ]
    }
   ],
   "source": [
    "print(\"HOPE AI\")"
   ]
  },
  {
   "cell_type": "code",
   "execution_count": 3,
   "id": "dbf592ab-27eb-4ceb-8df0-201ec402cde5",
   "metadata": {},
   "outputs": [
    {
     "name": "stdin",
     "output_type": "stream",
     "text": [
      "Enter your institue name?: HOPE AI\n"
     ]
    },
    {
     "data": {
      "text/plain": [
       "'HOPE AI'"
      ]
     },
     "execution_count": 3,
     "metadata": {},
     "output_type": "execute_result"
    }
   ],
   "source": [
    "input(\"Enter your institue name?:\")\n"
   ]
  },
  {
   "cell_type": "code",
   "execution_count": 3,
   "id": "58f250c3-9ec0-444c-b088-8712be096f25",
   "metadata": {},
   "outputs": [
    {
     "name": "stdout",
     "output_type": "stream",
     "text": [
      "Enter your name:Raj\n",
      "Enter your age:15\n",
      "Enter your school name:Guru school\n",
      "Enter your drgree:B.E CSE\n"
     ]
    }
   ],
   "source": [
    "a=(\"Enter your name:Raj\")\n",
    "b=(\"Enter your age:15\")\n",
    "c=(\"Enter your school name:Guru school\")\n",
    "d=(\"Enter your drgree:B.E CSE\")\n",
    "print(a)\n",
    "print(b)\n",
    "print(c)\n",
    "print(d)"
   ]
  },
  {
   "cell_type": "code",
   "execution_count": 7,
   "id": "4e232854-8009-47f9-b8de-5e6a0a610f83",
   "metadata": {},
   "outputs": [
    {
     "name": "stdout",
     "output_type": "stream",
     "text": [
      "a= 43\n",
      "b= 34\n",
      "add= 77\n"
     ]
    }
   ],
   "source": [
    "a=43\n",
    "b=34\n",
    "add=a+b\n",
    "x\n",
    "print(\"a=\",a)\n",
    "print(\"b=\",b)\n",
    "print(\"add=\",add)\n"
   ]
  },
  {
   "cell_type": "code",
   "execution_count": 11,
   "id": "1740f7f5-26f1-4dd2-866c-d079753a8108",
   "metadata": {},
   "outputs": [
    {
     "name": "stdout",
     "output_type": "stream",
     "text": [
      "a= 43\n",
      "b 34\n",
      "sub= 9\n"
     ]
    }
   ],
   "source": [
    "sub=a-b\n",
    "print(\"a=\",a)\n",
    "print(\"b\",b)\n",
    "print(\"sub=\",sub)"
   ]
  },
  {
   "cell_type": "code",
   "execution_count": 12,
   "id": "03965390-f3f7-4b76-b9f3-449fee734c88",
   "metadata": {},
   "outputs": [
    {
     "name": "stdout",
     "output_type": "stream",
     "text": [
      "a= 63\n",
      "b= 97\n",
      "Mul= 6111\n"
     ]
    }
   ],
   "source": [
    "a=63\n",
    "b=97\n",
    "mul=a*b\n",
    "print(\"a=\",a)\n",
    "print(\"b=\",b)\n",
    "print(\"Mul=\",mul)"
   ]
  },
  {
   "cell_type": "code",
   "execution_count": 21,
   "id": "a52c7544-b84a-4db3-8e5e-5df6bcfdc71f",
   "metadata": {},
   "outputs": [
    {
     "name": "stdout",
     "output_type": "stream",
     "text": [
      "a= 76\n",
      "b= 31\n",
      "Float Div= 2.4516129032258065\n"
     ]
    }
   ],
   "source": [
    "a=76\n",
    "b=31\n",
    "Flt=a/b\n",
    "print(\"a=\",a)\n",
    "print(\"b=\",b)\n",
    "print(\"Float Div=\",Flt)"
   ]
  },
  {
   "cell_type": "code",
   "execution_count": 22,
   "id": "d215f6d9-f1c4-442a-ad2f-383dab71cd07",
   "metadata": {},
   "outputs": [
    {
     "name": "stdout",
     "output_type": "stream",
     "text": [
      "a= 76\n",
      "b= 31\n",
      "Floor Div 2\n"
     ]
    }
   ],
   "source": [
    "print(\"a=\",a)\n",
    "print(\"b=\",b)\n",
    "Flo=a//b\n",
    "print(\"Floor Div\",Flo)"
   ]
  },
  {
   "cell_type": "code",
   "execution_count": 20,
   "id": "7206464b-3c18-4f18-96be-c96487579a04",
   "metadata": {},
   "outputs": [
    {
     "name": "stdout",
     "output_type": "stream",
     "text": [
      "a= 76\n",
      "b= 31\n",
      "Modulo 14\n"
     ]
    }
   ],
   "source": [
    "print(\"a=\",a)\n",
    "print(\"b=\",b)\n",
    "Mod=a%b\n",
    "print(\"Modulo\",Mod)"
   ]
  },
  {
   "cell_type": "code",
   "execution_count": 23,
   "id": "e9aff744-a412-4063-9a6e-1ead7127cf2c",
   "metadata": {},
   "outputs": [
    {
     "name": "stdout",
     "output_type": "stream",
     "text": [
      "a= 4\n",
      "b= 4\n",
      "Power= 256\n"
     ]
    }
   ],
   "source": [
    "a=4\n",
    "b=4\n",
    "Power=a**b\n",
    "print(\"a=\",a)\n",
    "print(\"b=\",b)\n",
    "print(\"Power=\",Power)"
   ]
  },
  {
   "cell_type": "code",
   "execution_count": null,
   "id": "8efed6f6-92ec-4351-8834-fb4cacab72d0",
   "metadata": {},
   "outputs": [],
   "source": []
  }
 ],
 "metadata": {
  "kernelspec": {
   "display_name": "Python 3 (ipykernel)",
   "language": "python",
   "name": "python3"
  },
  "language_info": {
   "codemirror_mode": {
    "name": "ipython",
    "version": 3
   },
   "file_extension": ".py",
   "mimetype": "text/x-python",
   "name": "python",
   "nbconvert_exporter": "python",
   "pygments_lexer": "ipython3",
   "version": "3.12.7"
  }
 },
 "nbformat": 4,
 "nbformat_minor": 5
}
