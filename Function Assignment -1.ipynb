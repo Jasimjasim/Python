{
 "cells": [
  {
   "cell_type": "code",
   "execution_count": 6,
   "id": "5d21910e-133b-405d-856e-ac0a845664cc",
   "metadata": {},
   "outputs": [],
   "source": [
    "def SubfieldsInAIsubfields():\n",
    "    subfields=(\"Machine learning\",\n",
    "               \"Neural networks\",\n",
    "               \"Vision\",\n",
    "               \"Robotics\",\n",
    "               \"Speech Processing\",\n",
    "               \"Natural language processing\")\n",
    "    print(\"Sub-fields in AI are:\")\n",
    "    for field in subfields:\n",
    "        print(field)\n"
   ]
  },
  {
   "cell_type": "code",
   "execution_count": 7,
   "id": "e3bc6303-fd99-4510-b502-4e7d38b9aa8d",
   "metadata": {},
   "outputs": [
    {
     "name": "stdout",
     "output_type": "stream",
     "text": [
      "Sub-fields in AI are:\n",
      "Machine learning\n",
      "Neural networks\n",
      "Vision\n",
      "Robotics\n",
      "Speech Processing\n",
      "Natural language processing\n"
     ]
    }
   ],
   "source": [
    "SubfieldsInAIsubfields()"
   ]
  },
  {
   "cell_type": "code",
   "execution_count": 8,
   "id": "773b81c5-bbfa-466d-b363-253dab7663d6",
   "metadata": {},
   "outputs": [],
   "source": [
    "def oddEven():\n",
    "    num=int(input(\"Enter a number:\"))\n",
    "    if((num%2)==0):\n",
    "        print(num,\"Even number\")"
   ]
  },
  {
   "cell_type": "code",
   "execution_count": 9,
   "id": "da09cba4-f05e-4b31-99c4-3f69f1dfbe54",
   "metadata": {},
   "outputs": [
    {
     "name": "stdin",
     "output_type": "stream",
     "text": [
      "Enter a number: 52452\n"
     ]
    },
    {
     "name": "stdout",
     "output_type": "stream",
     "text": [
      "52452 Even number\n"
     ]
    }
   ],
   "source": [
    "oddEven()"
   ]
  },
  {
   "cell_type": "code",
   "execution_count": 10,
   "id": "4aaf7c11-b641-4904-8790-6a22b8f34e7b",
   "metadata": {},
   "outputs": [],
   "source": [
    "def ElegibilityForMarriage():\n",
    "    Elegibility1=input(\"Your Gender:\")\n",
    "    Elegibility2=int(input(\"Your Age:\"))\n",
    "    if( Elegibility2<=20):\n",
    "        print(\"NOT ELEGIBILE\")\n",
    "    else:\n",
    "        print(\"ELEGIBLE\")\n",
    "    \n",
    "    \n",
    "                     \n",
    "                \n",
    "    "
   ]
  },
  {
   "cell_type": "code",
   "execution_count": 12,
   "id": "dd6e1da4-2046-424a-aa53-1a2bd5860077",
   "metadata": {},
   "outputs": [
    {
     "name": "stdin",
     "output_type": "stream",
     "text": [
      "Your Gender: Male\n",
      "Your Age: 20\n"
     ]
    },
    {
     "name": "stdout",
     "output_type": "stream",
     "text": [
      "NOT ELEGIBILE\n"
     ]
    }
   ],
   "source": [
    "ElegibilityForMarriage()"
   ]
  },
  {
   "cell_type": "code",
   "execution_count": 13,
   "id": "53e365e5-fb05-40aa-bb1f-a24e5a1cae92",
   "metadata": {},
   "outputs": [],
   "source": [
    "def percentage():\n",
    "    marks=(98,87,95,95,93)\n",
    "    total=sum(marks)\n",
    "    percentage=(total/(len(marks)*100))*100\n",
    "    print(\"subject1=\",marks[0])\n",
    "    print(\"subject2=\",marks[1])\n",
    "    print(\"subject3=\",marks[2])\n",
    "    print(\"subject4=\",marks[3])\n",
    "    print(\"subject5=\",marks[4])\n",
    "    print(\"Total:\",total)\n",
    "    print(\"Percentage:\",percentage)"
   ]
  },
  {
   "cell_type": "code",
   "execution_count": 14,
   "id": "31033822-b49c-433d-b95b-b7fda8d782bd",
   "metadata": {},
   "outputs": [
    {
     "name": "stdout",
     "output_type": "stream",
     "text": [
      "subject1= 98\n",
      "subject2= 87\n",
      "subject3= 95\n",
      "subject4= 95\n",
      "subject5= 93\n",
      "Total: 468\n",
      "Percentage: 93.60000000000001\n"
     ]
    }
   ],
   "source": [
    "percentage()"
   ]
  },
  {
   "cell_type": "code",
   "execution_count": 4,
   "id": "497eea86-1c4b-4fbd-a6b7-2049ae8e7c59",
   "metadata": {},
   "outputs": [
    {
     "name": "stdout",
     "output_type": "stream",
     "text": [
      "Height: 32\n",
      "Breadth: 34\n",
      "Area formula: 544.0\n",
      "Area of Triangle: 544.0\n",
      "Height1: 2\n",
      "Height2: 4\n",
      "Breadth: 4\n",
      "Perimeter formula: 10\n",
      "Perimeter of Triangle: 10\n"
     ]
    }
   ],
   "source": [
    "height=32\n",
    "breadth=34\n",
    "areaform=(height*breadth)/2\n",
    "areaoftri=544.0\n",
    "h1=2\n",
    "h2=4\n",
    "b=4\n",
    "perimeterForm=h1+h2+b\n",
    "perimeterTri=10\n",
    "print(\"Height:\",height)\n",
    "print(\"Breadth:\",breadth)\n",
    "print(\"Area formula:\",areaform)\n",
    "print(\"Area of Triangle:\",areaoftri)\n",
    "print(\"Height1:\",h1)\n",
    "print(\"Height2:\",h2)\n",
    "print(\"Breadth:\",b)\n",
    "print(\"Perimeter formula:\",perimeterForm)\n",
    "print(\"Perimeter of Triangle:\",perimeterTri)"
   ]
  },
  {
   "cell_type": "code",
   "execution_count": null,
   "id": "614f4d6e-adee-48a8-9439-2cec4f16c4fe",
   "metadata": {},
   "outputs": [],
   "source": []
  }
 ],
 "metadata": {
  "kernelspec": {
   "display_name": "Python 3 (ipykernel)",
   "language": "python",
   "name": "python3"
  },
  "language_info": {
   "codemirror_mode": {
    "name": "ipython",
    "version": 3
   },
   "file_extension": ".py",
   "mimetype": "text/x-python",
   "name": "python",
   "nbconvert_exporter": "python",
   "pygments_lexer": "ipython3",
   "version": "3.12.7"
  }
 },
 "nbformat": 4,
 "nbformat_minor": 5
}
