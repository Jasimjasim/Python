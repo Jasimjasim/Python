{
 "cells": [
  {
   "cell_type": "code",
   "execution_count": 1,
   "id": "ca9aab37-a5a2-45fe-a5a8-f3203518ef42",
   "metadata": {},
   "outputs": [],
   "source": [
    "class subfieldsInAI():\n",
    "    def SubfieldsInAIsubfields():\n",
    "        subfields=(\"Machine learning\",\n",
    "                   \"Neural networks\",\n",
    "                   \"Vision\",\n",
    "                   \"Robotics\",\n",
    "                   \"Speech Processing\",\n",
    "                   \"Natural language processing\")\n",
    "        print(\"Sub-fields in AI are:\")\n",
    "        for field in subfields:\n",
    "            print(field)\n",
    "\n",
    "\n",
    "\n"
   ]
  },
  {
   "cell_type": "code",
   "execution_count": 3,
   "id": "32d9f319-1e6a-4e43-b35c-11b3ef591b6c",
   "metadata": {},
   "outputs": [
    {
     "name": "stdout",
     "output_type": "stream",
     "text": [
      "Sub-fields in AI are:\n",
      "Machine learning\n",
      "Neural networks\n",
      "Vision\n",
      "Robotics\n",
      "Speech Processing\n",
      "Natural language processing\n"
     ]
    }
   ],
   "source": [
    "subfieldsInAI. SubfieldsInAIsubfields()\n"
   ]
  },
  {
   "cell_type": "code",
   "execution_count": 4,
   "id": "be20b0de-8680-46cf-87f6-7f91e4978e9c",
   "metadata": {},
   "outputs": [],
   "source": [
    "class oddEven():\n",
    "    def oddEven():\n",
    "        num=int(input(\"Enter a number:\"))\n",
    "        if((num%2)==0):\n",
    "            print(num,\"Even number\")"
   ]
  },
  {
   "cell_type": "code",
   "execution_count": 5,
   "id": "876a9ac1-0b7c-42b0-a094-8d7fb38137e3",
   "metadata": {},
   "outputs": [
    {
     "name": "stdin",
     "output_type": "stream",
     "text": [
      "Enter a number: 52452\n"
     ]
    },
    {
     "name": "stdout",
     "output_type": "stream",
     "text": [
      "52452 Even number\n"
     ]
    }
   ],
   "source": [
    "oddEven.oddEven()"
   ]
  },
  {
   "cell_type": "code",
   "execution_count": 7,
   "id": "caa38904-f8b4-41ea-9954-003f8884cc6e",
   "metadata": {},
   "outputs": [],
   "source": [
    "class Elegible():\n",
    "    def ElegibilityForMarriage():\n",
    "        Elegibility1=input(\"Your Gender:\")\n",
    "        Elegibility2=int(input(\"Your Age:\"))\n",
    "        if( Elegibility2<=20):\n",
    "            print(\"NOT ELEGIBILE\")\n",
    "        else:\n",
    "            print(\"ELEGIBLE\")\n",
    "        \n",
    "    "
   ]
  },
  {
   "cell_type": "code",
   "execution_count": 8,
   "id": "8d7200c6-87f4-46bc-b21b-5f4aee78ddd6",
   "metadata": {},
   "outputs": [
    {
     "name": "stdin",
     "output_type": "stream",
     "text": [
      "Your Gender: Male\n",
      "Your Age: 20\n"
     ]
    },
    {
     "name": "stdout",
     "output_type": "stream",
     "text": [
      "NOT ELEGIBILE\n"
     ]
    }
   ],
   "source": [
    " Elegible. ElegibilityForMarriage()"
   ]
  },
  {
   "cell_type": "code",
   "execution_count": 13,
   "id": "1369bd39-3566-4295-9d61-2e8579b6c856",
   "metadata": {},
   "outputs": [],
   "source": [
    "class FindPercent():\n",
    "    def percentage():\n",
    "        marks=(98,87,95,95,93)\n",
    "        total=sum(marks)\n",
    "        percentage=(total/(len(marks)*100))*100\n",
    "        print(\"subject1=\",marks[0])\n",
    "        print(\"subject2=\",marks[1])\n",
    "        print(\"subject3=\",marks[2])\n",
    "        print(\"subject4=\",marks[3])\n",
    "        print(\"subject5=\",marks[4])\n",
    "        print(\"Total:\",total)\n",
    "        print(\"Percentage:\",percentage)\n",
    "        "
   ]
  },
  {
   "cell_type": "code",
   "execution_count": 14,
   "id": "98596ccc-1031-4d01-ba04-d64f8b486cb2",
   "metadata": {},
   "outputs": [
    {
     "name": "stdout",
     "output_type": "stream",
     "text": [
      "subject1= 98\n",
      "subject2= 87\n",
      "subject3= 95\n",
      "subject4= 95\n",
      "subject5= 93\n",
      "Total: 468\n",
      "Percentage: 93.60000000000001\n"
     ]
    }
   ],
   "source": [
    " FindPercent. percentage()"
   ]
  },
  {
   "cell_type": "code",
   "execution_count": null,
   "id": "4e9b8a56-fea2-4cb6-a7ec-812fee54ac15",
   "metadata": {},
   "outputs": [],
   "source": []
  }
 ],
 "metadata": {
  "kernelspec": {
   "display_name": "Python 3 (ipykernel)",
   "language": "python",
   "name": "python3"
  },
  "language_info": {
   "codemirror_mode": {
    "name": "ipython",
    "version": 3
   },
   "file_extension": ".py",
   "mimetype": "text/x-python",
   "name": "python",
   "nbconvert_exporter": "python",
   "pygments_lexer": "ipython3",
   "version": "3.12.7"
  }
 },
 "nbformat": 4,
 "nbformat_minor": 5
}
